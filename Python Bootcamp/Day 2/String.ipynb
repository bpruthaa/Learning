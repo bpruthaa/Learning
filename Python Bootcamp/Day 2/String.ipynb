{
  "nbformat": 4,
  "nbformat_minor": 0,
  "metadata": {
    "colab": {
      "provenance": []
    },
    "kernelspec": {
      "name": "python3",
      "display_name": "Python 3"
    },
    "language_info": {
      "name": "python"
    }
  },
  "cells": [
    {
      "cell_type": "markdown",
      "source": [
        "#Strings"
      ],
      "metadata": {
        "id": "kqJyqBGGoQGY"
      }
    },
    {
      "cell_type": "code",
      "source": [
        "a=\"Python\"\n",
        "b=\"Bootcamp\"\n",
        "print(a)\n",
        "print(b)"
      ],
      "metadata": {
        "colab": {
          "base_uri": "https://localhost:8080/"
        },
        "id": "TchTPmUboTAP",
        "outputId": "50d67bbc-4b30-4962-cfbe-8633772b71f5"
      },
      "execution_count": null,
      "outputs": [
        {
          "output_type": "stream",
          "name": "stdout",
          "text": [
            "Python\n",
            "Bootcamp\n"
          ]
        }
      ]
    },
    {
      "cell_type": "markdown",
      "source": [
        "#String Concatenation"
      ],
      "metadata": {
        "id": "vw6qVOgAozrp"
      }
    },
    {
      "cell_type": "code",
      "source": [
        "print(a+b)"
      ],
      "metadata": {
        "colab": {
          "base_uri": "https://localhost:8080/"
        },
        "id": "FsxxrMlso2MV",
        "outputId": "d6eb7c73-c80e-4705-96aa-abcafc4a9848"
      },
      "execution_count": null,
      "outputs": [
        {
          "output_type": "stream",
          "name": "stdout",
          "text": [
            "PythonBootcamp\n"
          ]
        }
      ]
    },
    {
      "cell_type": "markdown",
      "source": [
        "#Length Of The String"
      ],
      "metadata": {
        "id": "d0vu4wHTo9Ln"
      }
    },
    {
      "cell_type": "code",
      "source": [
        "print(len(a))"
      ],
      "metadata": {
        "colab": {
          "base_uri": "https://localhost:8080/"
        },
        "id": "lQu_qbXhpAB-",
        "outputId": "8981d2ec-629c-48a1-9f36-a51bf7b6c604"
      },
      "execution_count": null,
      "outputs": [
        {
          "output_type": "stream",
          "name": "stdout",
          "text": [
            "6\n"
          ]
        }
      ]
    },
    {
      "cell_type": "markdown",
      "source": [
        "#Repeat Characters of String"
      ],
      "metadata": {
        "id": "CAjwYAB0pQS-"
      }
    },
    {
      "cell_type": "code",
      "source": [
        "a=\"S\"\n",
        "b=a*5\n",
        "print(b)"
      ],
      "metadata": {
        "colab": {
          "base_uri": "https://localhost:8080/"
        },
        "id": "gpJIeqLgpU5O",
        "outputId": "869bb5a2-305d-4e88-ad41-44e04e65ee82"
      },
      "execution_count": null,
      "outputs": [
        {
          "output_type": "stream",
          "name": "stdout",
          "text": [
            "SSSSS\n"
          ]
        }
      ]
    },
    {
      "cell_type": "markdown",
      "source": [
        "#String Index"
      ],
      "metadata": {
        "id": "eP6crqlGpik-"
      }
    },
    {
      "cell_type": "code",
      "source": [
        "a=\"Champ\"\n",
        "print(a[3])    #prints a specific character at the given index\n",
        "print(a[2:])   #grabbing remaining elements except till the given colon\n",
        "print(a[:2])   #grabs elements upto the index\n",
        "print(a[-1])   #grabs last element\n",
        "print(a[:-1])  #grabs all the elements except the last one\n",
        "print(a[::2])  #grabs everything with two steps(skips two elements)\n",
        "print(a[::-1]) #prints the string backwards\n"
      ],
      "metadata": {
        "colab": {
          "base_uri": "https://localhost:8080/"
        },
        "id": "lTixc_AzplaX",
        "outputId": "bb7d8ca2-6329-4938-d0ed-92c7b27efab0"
      },
      "execution_count": null,
      "outputs": [
        {
          "output_type": "stream",
          "name": "stdout",
          "text": [
            "m\n",
            "amp\n",
            "Ch\n",
            "p\n",
            "Cham\n",
            "Cap\n",
            "pmahC\n"
          ]
        }
      ]
    },
    {
      "cell_type": "markdown",
      "source": [
        "#String Functions"
      ],
      "metadata": {
        "id": "Z6rpAYM4xBg2"
      }
    },
    {
      "cell_type": "code",
      "source": [
        "print(a.upper())  #prints string in upper case\n",
        "print(a.lower())  #prints string in lower case"
      ],
      "metadata": {
        "colab": {
          "base_uri": "https://localhost:8080/"
        },
        "id": "sIWKuwHpxDqm",
        "outputId": "b7827edb-d12c-4482-e505-d08079386b71"
      },
      "execution_count": null,
      "outputs": [
        {
          "output_type": "stream",
          "name": "stdout",
          "text": [
            "CHAMP\n",
            "champ\n"
          ]
        }
      ]
    },
    {
      "cell_type": "code",
      "source": [
        "a=\"Master Class\"\n",
        "b=a.split()      #splits the string into two elements of an array\n",
        "print(b)\n",
        "c=\"ElonMusk, SteveJobs, ThomasEdison\"\n",
        "d=c.split(\",\")   #splits string based on delimitir(symbol)\n",
        "print(d)"
      ],
      "metadata": {
        "colab": {
          "base_uri": "https://localhost:8080/"
        },
        "id": "_GMq54pXxeop",
        "outputId": "ac0224d6-fe77-41c6-eb37-a3ede32bef23"
      },
      "execution_count": null,
      "outputs": [
        {
          "output_type": "stream",
          "name": "stdout",
          "text": [
            "['Master', 'Class']\n",
            "['ElonMusk', ' SteveJobs', ' ThomasEdison']\n"
          ]
        }
      ]
    }
  ]
}