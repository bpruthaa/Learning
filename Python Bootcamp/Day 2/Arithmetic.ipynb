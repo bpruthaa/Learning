{
  "nbformat": 4,
  "nbformat_minor": 0,
  "metadata": {
    "colab": {
      "provenance": [],
      "collapsed_sections": []
    },
    "kernelspec": {
      "name": "python3",
      "display_name": "Python 3"
    },
    "language_info": {
      "name": "python"
    }
  },
  "cells": [
    {
      "cell_type": "markdown",
      "source": [
        "#Basic Python\n"
      ],
      "metadata": {
        "id": "NijLXTUMQxYq"
      }
    },
    {
      "cell_type": "markdown",
      "source": [],
      "metadata": {
        "id": "Orf3CYZnlY8W"
      }
    },
    {
      "cell_type": "markdown",
      "source": [
        "##Arithmetic Program"
      ],
      "metadata": {
        "id": "UFj6PZXyQ7N5"
      }
    },
    {
      "cell_type": "code",
      "source": [
        "a=5\n",
        "b=6\n",
        "c=a+b\n",
        "print(c)"
      ],
      "metadata": {
        "colab": {
          "base_uri": "https://localhost:8080/"
        },
        "id": "UkXHoY20RC3M",
        "outputId": "cde84deb-a45e-49d9-d8d7-da53404c2c88"
      },
      "execution_count": null,
      "outputs": [
        {
          "output_type": "stream",
          "name": "stdout",
          "text": [
            "11\n"
          ]
        }
      ]
    },
    {
      "cell_type": "code",
      "source": [
        "d=a*b\n",
        "print(d)"
      ],
      "metadata": {
        "colab": {
          "base_uri": "https://localhost:8080/"
        },
        "id": "A76cy1riUOAi",
        "outputId": "7a8e553b-3d74-4c25-c9d0-9039217ec5a1"
      },
      "execution_count": null,
      "outputs": [
        {
          "output_type": "stream",
          "name": "stdout",
          "text": [
            "30\n"
          ]
        }
      ]
    },
    {
      "cell_type": "markdown",
      "source": [
        "#Simple Arithmetic With User Input"
      ],
      "metadata": {
        "id": "wndo0c5cVYpY"
      }
    },
    {
      "cell_type": "code",
      "source": [
        "a=int(input(\"Enter the value of a:\"))\n",
        "b=int(input(\"Enter the value of b:\"))\n",
        "add=a+b\n",
        "sub=a-b\n",
        "mul=a*b\n",
        "div=a/b\n",
        "mod=a%b\n",
        "print(add)\n",
        "print(sub)\n",
        "print(mul)\n",
        "print(div)\n",
        "print(mod)"
      ],
      "metadata": {
        "colab": {
          "base_uri": "https://localhost:8080/"
        },
        "id": "IkYwagQ7VeEQ",
        "outputId": "c51ffa53-2124-46d9-9185-b0306d17bfd9"
      },
      "execution_count": null,
      "outputs": [
        {
          "output_type": "stream",
          "name": "stdout",
          "text": [
            "Enter the value of a:20\n",
            "Enter the value of b:10\n",
            "30\n",
            "10\n",
            "200\n",
            "2.0\n",
            "0\n"
          ]
        }
      ]
    },
    {
      "cell_type": "markdown",
      "source": [
        "######Input(\"Message\")-Used to take User Input.\n",
        "By Default takes String Input.\n",
        "To take different input:\n",
        "Datatype(input(\"Message\"))"
      ],
      "metadata": {
        "id": "PeT6Jl6mePvX"
      }
    },
    {
      "cell_type": "markdown",
      "source": [
        "#Print Using Format"
      ],
      "metadata": {
        "id": "uV-mb3ucWfXZ"
      }
    },
    {
      "cell_type": "code",
      "source": [
        "print(\"Add: {0}, Sub: {1}, Mul: {2}, Div: {3}, Mod: {4}\".format(add,sub,mul,div,mod))"
      ],
      "metadata": {
        "colab": {
          "base_uri": "https://localhost:8080/"
        },
        "id": "SKa_L7fOWj56",
        "outputId": "4bda8dd3-58bb-4968-a616-b695efc52bf8"
      },
      "execution_count": null,
      "outputs": [
        {
          "output_type": "stream",
          "name": "stdout",
          "text": [
            "Add: 30, Sub: 10, Mul: 200, Div: 2.0, Mod: 0\n"
          ]
        }
      ]
    },
    {
      "cell_type": "markdown",
      "source": [
        "#Print Using Padding And Precision"
      ],
      "metadata": {
        "id": "U9Ackg-hXS4v"
      }
    },
    {
      "cell_type": "code",
      "source": [
        "print(\"Add: %d, Sub: %d, Mul: %d, Div: %25.3f, Mod: %d\"%(add,sub,mul,div,mod))"
      ],
      "metadata": {
        "colab": {
          "base_uri": "https://localhost:8080/"
        },
        "id": "defJjDsdXZfb",
        "outputId": "63b2b2f5-8366-453b-fa42-32597e2763e6"
      },
      "execution_count": null,
      "outputs": [
        {
          "output_type": "stream",
          "name": "stdout",
          "text": [
            "Add: 30, Sub: 10, Mul: 200, Div:                     2.000, Mod: 0\n"
          ]
        }
      ]
    },
    {
      "cell_type": "markdown",
      "source": [
        "######here in %25.3f\n",
        "25-padding it will leave 25 spaces from the text,\n",
        "\n",
        "3-precision it will print upto 3 decimal digits\n"
      ],
      "metadata": {
        "id": "yJUTBNGWcuzk"
      }
    },
    {
      "cell_type": "markdown",
      "source": [
        "#Print Using Padding and Alignment"
      ],
      "metadata": {
        "id": "C4T75AxhfOCf"
      }
    },
    {
      "cell_type": "markdown",
      "source": [
        "######'>' - Right Align\n",
        "'<' - Left Aligh"
      ],
      "metadata": {
        "id": "GNY2zD6PfTt_"
      }
    },
    {
      "cell_type": "code",
      "source": [
        "print('{0:<4} {1:<4} {2:<4} {3:<4}'.format(\"Add\",\"Sub\",\"Mul\",\"Div\",\"Mod\"))\n",
        "print('{0:<4} {1:<4} {2:<4} {3:<4}'.format(add,sub,mul,div,mod))\n"
      ],
      "metadata": {
        "colab": {
          "base_uri": "https://localhost:8080/"
        },
        "id": "kI17NOnZf1Lg",
        "outputId": "334930bf-4511-4d9a-c4a6-24dc86259eaa"
      },
      "execution_count": null,
      "outputs": [
        {
          "output_type": "stream",
          "name": "stdout",
          "text": [
            "Add  Sub  Mul  Div \n",
            "30   10   200  2.0 \n"
          ]
        }
      ]
    },
    {
      "cell_type": "markdown",
      "source": [
        "######0:<4\n",
        "Here 0 - index,\n",
        "\n",
        "< - Alignment,\n",
        "\n",
        "4 - padding.\n"
      ],
      "metadata": {
        "id": "mU1HmoiThAye"
      }
    },
    {
      "cell_type": "markdown",
      "source": [
        "#Calculate Power(a^b)"
      ],
      "metadata": {
        "id": "k6HjrkB_laGm"
      }
    },
    {
      "cell_type": "code",
      "source": [
        "a=3\n",
        "b=3\n",
        "power=a**b\n",
        "print(power)"
      ],
      "metadata": {
        "colab": {
          "base_uri": "https://localhost:8080/"
        },
        "id": "oAx8e_LblcfW",
        "outputId": "2f19decc-9773-4835-8801-00ccc297176e"
      },
      "execution_count": null,
      "outputs": [
        {
          "output_type": "stream",
          "name": "stdout",
          "text": [
            "27\n"
          ]
        }
      ]
    }
  ]
}