{
  "nbformat": 4,
  "nbformat_minor": 0,
  "metadata": {
    "colab": {
      "provenance": []
    },
    "kernelspec": {
      "name": "python3",
      "display_name": "Python 3"
    },
    "language_info": {
      "name": "python"
    }
  },
  "cells": [
    {
      "cell_type": "markdown",
      "source": [
        "#Counters - Gives the count of the element being repeated for a particular time"
      ],
      "metadata": {
        "id": "T_rUjjwT_sET"
      }
    },
    {
      "cell_type": "code",
      "source": [
        "from collections import Counter\n",
        "print(Counter([5,6,7,8,9,10,11,12,13,14,15,16,17,18,19,20,5,5,5,5,5,6,6,6,6,7,7,7,7,9,3]))   #Numbers\n",
        "print(Counter('sdasdasdasdasdasdasdasdasdasdasda'))   #String"
      ],
      "metadata": {
        "colab": {
          "base_uri": "https://localhost:8080/"
        },
        "id": "v5nT_PrnDYJo",
        "outputId": "0d80616d-4d82-421e-dc3b-c43923f3910b"
      },
      "execution_count": 1,
      "outputs": [
        {
          "output_type": "stream",
          "name": "stdout",
          "text": [
            "Counter({5: 6, 6: 5, 7: 5, 9: 2, 8: 1, 10: 1, 11: 1, 12: 1, 13: 1, 14: 1, 15: 1, 16: 1, 17: 1, 18: 1, 19: 1, 20: 1, 3: 1})\n",
            "Counter({'s': 11, 'd': 11, 'a': 11})\n"
          ]
        }
      ]
    },
    {
      "cell_type": "markdown",
      "source": [
        "#Regular Expression - RE Library\n",
        "Helpful for analyzing data and identifying pattern from it.\n",
        "Pattern Date:"
      ],
      "metadata": {
        "id": "NpUlYmnpESjl"
      }
    },
    {
      "cell_type": "code",
      "source": [
        "import re\n",
        "patt = r'\\d{2}-\\d{2}-\\d{4}'\n",
        "message = \"Birthdate is 16-11-1922\"\n",
        "re.findall(patt,message)"
      ],
      "metadata": {
        "colab": {
          "base_uri": "https://localhost:8080/"
        },
        "id": "hyf6JoWtEZUi",
        "outputId": "daab7b78-afd6-4e0b-bd77-59dfea30dfed"
      },
      "execution_count": 2,
      "outputs": [
        {
          "output_type": "execute_result",
          "data": {
            "text/plain": [
              "['16-11-1922']"
            ]
          },
          "metadata": {},
          "execution_count": 2
        }
      ]
    },
    {
      "cell_type": "markdown",
      "source": [
        "#Working with Files"
      ],
      "metadata": {
        "id": "-OKc_bZrGo8e"
      }
    },
    {
      "cell_type": "code",
      "source": [
        "f = open(\"welcome.txt\",\"r\")\n",
        "print(f.read())\n",
        "f.close()"
      ],
      "metadata": {
        "colab": {
          "base_uri": "https://localhost:8080/"
        },
        "id": "n5ppA_AVGtwk",
        "outputId": "4cee2284-8e92-40e2-fa80-c01cdb7de377"
      },
      "execution_count": 3,
      "outputs": [
        {
          "output_type": "stream",
          "name": "stdout",
          "text": [
            "Hello All Welcome to Python Bootcamp\n"
          ]
        }
      ]
    },
    {
      "cell_type": "code",
      "source": [
        "f = open(\"welcome.txt\",\"r\")\n",
        "print(f.read(5)) #Reading first 5 words\n",
        "f.close()"
      ],
      "metadata": {
        "colab": {
          "base_uri": "https://localhost:8080/"
        },
        "id": "Fa21MU8UH124",
        "outputId": "06c94194-5492-4cb0-d09a-850668a4fd7b"
      },
      "execution_count": 4,
      "outputs": [
        {
          "output_type": "stream",
          "name": "stdout",
          "text": [
            "Hello\n"
          ]
        }
      ]
    },
    {
      "cell_type": "code",
      "source": [
        "f = open(\"welcome.txt\",\"r\")\n",
        "print(f.readline()) #Reading first 5 words\n",
        "f.close()"
      ],
      "metadata": {
        "colab": {
          "base_uri": "https://localhost:8080/"
        },
        "id": "AfgGO2yMIB_-",
        "outputId": "ec8d94ba-ed13-4cfd-8430-f94e8ab8f36d"
      },
      "execution_count": 5,
      "outputs": [
        {
          "output_type": "stream",
          "name": "stdout",
          "text": [
            "Hello All Welcome to Python Bootcamp\n"
          ]
        }
      ]
    },
    {
      "cell_type": "code",
      "source": [
        "f = open(\"welcome.txt\",\"r\")\n",
        "for x in f:\n",
        "  print(x)"
      ],
      "metadata": {
        "colab": {
          "base_uri": "https://localhost:8080/"
        },
        "id": "xzoNHeMxIZIr",
        "outputId": "7cd4cd18-e8d6-4699-e633-1d3d605e7f09"
      },
      "execution_count": 6,
      "outputs": [
        {
          "output_type": "stream",
          "name": "stdout",
          "text": [
            "Hello All Welcome to Python Bootcamp\n"
          ]
        }
      ]
    },
    {
      "cell_type": "markdown",
      "source": [
        "#File Handling using Pandas \n",
        "a Python package providing fast, flexible, and expressive data structures designed to make working with “relational” or “labeled” data both easy and intuitive"
      ],
      "metadata": {
        "id": "BWRQALAeIkD7"
      }
    },
    {
      "cell_type": "code",
      "source": [
        "!pip install pandas"
      ],
      "metadata": {
        "colab": {
          "base_uri": "https://localhost:8080/"
        },
        "id": "vTJ62gN9IvgH",
        "outputId": "6da0644e-18bc-4eb1-82e7-502ea5c5e3cc"
      },
      "execution_count": 8,
      "outputs": [
        {
          "output_type": "stream",
          "name": "stdout",
          "text": [
            "Looking in indexes: https://pypi.org/simple, https://us-python.pkg.dev/colab-wheels/public/simple/\n",
            "Requirement already satisfied: pandas in /usr/local/lib/python3.7/dist-packages (1.3.5)\n",
            "Requirement already satisfied: numpy>=1.17.3 in /usr/local/lib/python3.7/dist-packages (from pandas) (1.21.6)\n",
            "Requirement already satisfied: python-dateutil>=2.7.3 in /usr/local/lib/python3.7/dist-packages (from pandas) (2.8.2)\n",
            "Requirement already satisfied: pytz>=2017.3 in /usr/local/lib/python3.7/dist-packages (from pandas) (2022.6)\n",
            "Requirement already satisfied: six>=1.5 in /usr/local/lib/python3.7/dist-packages (from python-dateutil>=2.7.3->pandas) (1.15.0)\n"
          ]
        }
      ]
    },
    {
      "cell_type": "code",
      "source": [
        "import pandas as pd\n",
        "data = pd.read_csv('data.csv')\n",
        "print(data.to_string())"
      ],
      "metadata": {
        "colab": {
          "base_uri": "https://localhost:8080/"
        },
        "id": "JbEarDZfI30z",
        "outputId": "02a1aa3b-ae45-464a-f77e-3fcb6679ca8a"
      },
      "execution_count": 11,
      "outputs": [
        {
          "output_type": "stream",
          "name": "stdout",
          "text": [
            "   Unnamed: 0      Name Semester\n",
            "0           1    Prutha      5th\n",
            "1           2  Purnendu      2nd\n",
            "2           3     Rudri      5th\n",
            "3           4    Nikita      8th\n",
            "4           5   Msnushi      7th\n",
            "5           6   Ruchita      6th\n"
          ]
        }
      ]
    },
    {
      "cell_type": "code",
      "source": [
        "import pandas as pd\n",
        "data = pd.read_csv('data.csv')\n",
        "print(data.shape)  #Prints the number of Rows and Columns in the dataset\n",
        "print(data.describe())  #Prints the count of data present in Dataset\n",
        "print(data.head(5)) #Prints the top 5 highest values of Dataset\n"
      ],
      "metadata": {
        "colab": {
          "base_uri": "https://localhost:8080/"
        },
        "id": "GaG1CxbpNba_",
        "outputId": "4d490ea3-af5d-4d7b-8fe3-00f7d6b2ca41"
      },
      "execution_count": 12,
      "outputs": [
        {
          "output_type": "stream",
          "name": "stdout",
          "text": [
            "(6, 3)\n",
            "       Unnamed: 0\n",
            "count    6.000000\n",
            "mean     3.500000\n",
            "std      1.870829\n",
            "min      1.000000\n",
            "25%      2.250000\n",
            "50%      3.500000\n",
            "75%      4.750000\n",
            "max      6.000000\n",
            "   Unnamed: 0      Name Semester\n",
            "0           1    Prutha      5th\n",
            "1           2  Purnendu      2nd\n",
            "2           3     Rudri      5th\n",
            "3           4    Nikita      8th\n",
            "4           5   Msnushi      7th\n"
          ]
        }
      ]
    },
    {
      "cell_type": "markdown",
      "source": [
        "#Working with Directories\n",
        "OS module provides the facility to establish the interaction between the user and the operating system. It offers many useful OS functions that are used to perform OS-based tasks and get related information about operating system. The OS comes under Python's standard utility modules."
      ],
      "metadata": {
        "id": "4xQn3x4VOXE7"
      }
    },
    {
      "cell_type": "code",
      "source": [
        "import os\n",
        "print(os.getcwd())   #Gets the information about current working directory\n",
        "print(os.listdir())  #List the information of directories present\n",
        "os.mkdir(\"Junk\")           #Makes a new directory"
      ],
      "metadata": {
        "colab": {
          "base_uri": "https://localhost:8080/"
        },
        "id": "15iZAcOROZiQ",
        "outputId": "14f34c50-b9a3-4836-cc64-ed81334878ab"
      },
      "execution_count": 14,
      "outputs": [
        {
          "output_type": "stream",
          "name": "stdout",
          "text": [
            "/content\n",
            "['.config', 'data.csv', 'welcome.txt', '.ipynb_checkpoints', 'sample_data']\n"
          ]
        }
      ]
    },
    {
      "cell_type": "markdown",
      "source": [
        "#Shutil Library\n",
        " shutil module offers a number of high-level operations on files and collections of files. In particular, functions are provided which support file copying and removal. For operations on individual files, see also the os module. Even the higher-level file copying functions "
      ],
      "metadata": {
        "id": "oIF3Lb2zPpv8"
      }
    },
    {
      "cell_type": "code",
      "source": [
        "import shutil\n",
        "shutil.move('welcome.txt','/content/Junk')"
      ],
      "metadata": {
        "colab": {
          "base_uri": "https://localhost:8080/",
          "height": 36
        },
        "id": "fos-8J1OPuY9",
        "outputId": "3ace363c-99fd-4e2a-c3c0-07317b046d94"
      },
      "execution_count": 15,
      "outputs": [
        {
          "output_type": "execute_result",
          "data": {
            "text/plain": [
              "'/content/Junk/welcome.txt'"
            ],
            "application/vnd.google.colaboratory.intrinsic+json": {
              "type": "string"
            }
          },
          "metadata": {},
          "execution_count": 15
        }
      ]
    },
    {
      "cell_type": "markdown",
      "source": [
        "#Send2Trash\n",
        "Small package that sends files to the Trash (or Recycle Bin) natively and on all platforms"
      ],
      "metadata": {
        "id": "feP-qcNEP8jv"
      }
    },
    {
      "cell_type": "code",
      "source": [
        "import send2trash\n",
        "os.listdir()\n",
        "send2trash.send2trash('Junk/welcome.txt')"
      ],
      "metadata": {
        "id": "pwZmv8BDQJbY"
      },
      "execution_count": 16,
      "outputs": []
    },
    {
      "cell_type": "code",
      "source": [
        "os.listdir()"
      ],
      "metadata": {
        "colab": {
          "base_uri": "https://localhost:8080/"
        },
        "id": "ueyuCWJDQX5u",
        "outputId": "f5797d7d-8cbc-4cc1-d2d9-3a53e5cb1eeb"
      },
      "execution_count": 17,
      "outputs": [
        {
          "output_type": "execute_result",
          "data": {
            "text/plain": [
              "['.config', 'data.csv', '.ipynb_checkpoints', 'Junk', 'sample_data']"
            ]
          },
          "metadata": {},
          "execution_count": 17
        }
      ]
    },
    {
      "cell_type": "markdown",
      "source": [
        "#Time Library"
      ],
      "metadata": {
        "id": "18ujDR0_QxSI"
      }
    },
    {
      "cell_type": "code",
      "source": [
        "import time\n",
        "print(time.time())  #Prints time since epoch"
      ],
      "metadata": {
        "colab": {
          "base_uri": "https://localhost:8080/"
        },
        "id": "e5lYaP93Q1Do",
        "outputId": "7044d679-27f3-46f7-9f0d-74ede49a47f5"
      },
      "execution_count": 18,
      "outputs": [
        {
          "output_type": "stream",
          "name": "stdout",
          "text": [
            "1669270323.7366383\n"
          ]
        }
      ]
    },
    {
      "cell_type": "code",
      "source": [
        "print(time.gmtime()) #TimeinDifferentFormatsLike: Year,Month,Day,Hour,Second,Day."
      ],
      "metadata": {
        "colab": {
          "base_uri": "https://localhost:8080/"
        },
        "id": "r8KQYgPKRCj4",
        "outputId": "3a6b8c52-18b2-4ecd-d641-962e29a8432b"
      },
      "execution_count": 19,
      "outputs": [
        {
          "output_type": "stream",
          "name": "stdout",
          "text": [
            "time.struct_time(tm_year=2022, tm_mon=11, tm_mday=24, tm_hour=6, tm_min=12, tm_sec=47, tm_wday=3, tm_yday=328, tm_isdst=0)\n"
          ]
        }
      ]
    },
    {
      "cell_type": "code",
      "source": [
        "print(time.ctime())  #Current time"
      ],
      "metadata": {
        "colab": {
          "base_uri": "https://localhost:8080/"
        },
        "id": "EGdwJjT-RTbz",
        "outputId": "0508cdb8-f272-4a92-a5e6-8c79d353fce4"
      },
      "execution_count": 20,
      "outputs": [
        {
          "output_type": "stream",
          "name": "stdout",
          "text": [
            "Thu Nov 24 06:13:59 2022\n"
          ]
        }
      ]
    },
    {
      "cell_type": "code",
      "source": [
        "startTime = time.time()\n",
        "i=0\n",
        "while(i<5):\n",
        "  i+=1\n",
        "  print(\".\")\n",
        "  time.sleep(1) #delay 1 second\n",
        "stopTime = time.time()\n",
        "diff = stopTime - startTime\n",
        "diff\n"
      ],
      "metadata": {
        "colab": {
          "base_uri": "https://localhost:8080/"
        },
        "id": "kB4vR22WR1eH",
        "outputId": "daab9470-cb5c-487b-f69b-86f51c5da915"
      },
      "execution_count": 21,
      "outputs": [
        {
          "output_type": "stream",
          "name": "stdout",
          "text": [
            ".\n",
            ".\n",
            ".\n",
            ".\n",
            ".\n"
          ]
        },
        {
          "output_type": "execute_result",
          "data": {
            "text/plain": [
              "5.0048768520355225"
            ]
          },
          "metadata": {},
          "execution_count": 21
        }
      ]
    },
    {
      "cell_type": "markdown",
      "source": [
        "#DateTime"
      ],
      "metadata": {
        "id": "27TaXhwyUgzW"
      }
    },
    {
      "cell_type": "code",
      "source": [
        "import datetime\n",
        "x = datetime.datetime.now()\n",
        "print(x)"
      ],
      "metadata": {
        "colab": {
          "base_uri": "https://localhost:8080/"
        },
        "id": "a4cNI00ZUjF1",
        "outputId": "b919b9b3-a968-457f-9d5e-94d7905beb2b"
      },
      "execution_count": 22,
      "outputs": [
        {
          "output_type": "stream",
          "name": "stdout",
          "text": [
            "2022-11-24 06:28:24.716534\n"
          ]
        }
      ]
    },
    {
      "cell_type": "code",
      "source": [
        "import datetime\n",
        "x = datetime.datetime(2022,11,24,12,00,00)  #(year,month,date,hour,minute,second,microsecond)\n",
        "print(x)"
      ],
      "metadata": {
        "colab": {
          "base_uri": "https://localhost:8080/"
        },
        "id": "oE5r5-TcUuOi",
        "outputId": "1d44e0c3-793c-4e2a-d370-5545078d580c"
      },
      "execution_count": 24,
      "outputs": [
        {
          "output_type": "stream",
          "name": "stdout",
          "text": [
            "2022-11-24 12:00:00\n"
          ]
        }
      ]
    },
    {
      "cell_type": "code",
      "source": [
        "import datetime\n",
        "a = datetime.datetime(2022,11,24)\n",
        "print(a.strftime(\"%B\"))"
      ],
      "metadata": {
        "colab": {
          "base_uri": "https://localhost:8080/"
        },
        "id": "zZ3059xvVe69",
        "outputId": "a99987de-53ce-4894-bb8a-37dcb2f0c83e"
      },
      "execution_count": 26,
      "outputs": [
        {
          "output_type": "stream",
          "name": "stdout",
          "text": [
            "November\n"
          ]
        }
      ]
    }
  ]
}