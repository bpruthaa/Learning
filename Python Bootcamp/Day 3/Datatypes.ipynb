{
  "nbformat": 4,
  "nbformat_minor": 0,
  "metadata": {
    "colab": {
      "name": "Datatypes.ipynb",
      "provenance": []
    },
    "kernelspec": {
      "name": "python3",
      "display_name": "Python 3"
    },
    "language_info": {
      "name": "python"
    }
  },
  "cells": [
    {
      "cell_type": "markdown",
      "source": [
        "#LIST"
      ],
      "metadata": {
        "id": "0RvAHx7p6BPH"
      }
    },
    {
      "cell_type": "code",
      "source": [
        "a=[1,2,3,4,5]\n",
        "b=[\"champ\",2,'a',16.5,]\n",
        "print(a,b)\n",
        "print(len(b))  #Length Of the List\n",
        "print(b[0])    #Locates element based on Index\n",
        "print(a[1:])   #Prints element except the 1st\n",
        "print(a[:2])   #Print elements upto 2nd Index\n",
        "print(a+b)     #Concates and Prints two lists\n",
        "a.append(6)    #appends the element at the end of the list\n",
        "print(a)\n",
        "b.reverse()    #Reverses the list\n",
        "print(b)\n",
        "print(min(a))  #Prints minimum element from a\n",
        "print(max(a))  #Prints maximum element from a\n",
        " \n",
        "c=[a,b]        #Nested List Matrix\n",
        "print(c)\n",
        "print(c[0])    #Printing Row\n",
        "print(c[0][0]) #Printing 1st Element"
      ],
      "metadata": {
        "colab": {
          "base_uri": "https://localhost:8080/"
        },
        "id": "TqVAU9-d6DQv",
        "outputId": "abba16ef-9e4e-453f-b1ef-8b3fe0b579bf"
      },
      "execution_count": null,
      "outputs": [
        {
          "output_type": "stream",
          "name": "stdout",
          "text": [
            "[1, 2, 3, 4, 5] ['champ', 2, 'a', 16.5]\n",
            "4\n",
            "champ\n",
            "[2, 3, 4, 5]\n",
            "[1, 2]\n",
            "[1, 2, 3, 4, 5, 'champ', 2, 'a', 16.5]\n",
            "[1, 2, 3, 4, 5, 6]\n",
            "[16.5, 'a', 2, 'champ']\n",
            "1\n",
            "6\n",
            "[[1, 2, 3, 4, 5, 6], [16.5, 'a', 2, 'champ']]\n",
            "[1, 2, 3, 4, 5, 6]\n",
            "1\n"
          ]
        }
      ]
    },
    {
      "cell_type": "markdown",
      "source": [
        "#Dictionary"
      ],
      "metadata": {
        "id": "RzXx4OCsBefa"
      }
    },
    {
      "cell_type": "code",
      "source": [
        "a={\"Name\":\"Elon\", \"Surname\":\"Musk\", \"Company\":[\"Tesla\",\"SpaceX\"], \"Age\":50}\n",
        "print(a[\"Name\"])       #Print Element based on Key\n",
        "print(a[\"Surname\"])    #Print Element based on Key\n",
        "print(a[\"Company\"])    #Print Element based on Key\n",
        "a[\"Age\"]=52            #Changing Values\n",
        "print(a[\"Age\"])\n",
        "print(a)               #Printing Whole Dictionary\n",
        "\n",
        "print(a.keys())        #Prints Keys of Dictionary\n",
        "print(a.values())      #Prints values of Dictionary\n",
        "print(a.items())        #Prints keys-values of Dictionary\n",
        "\n",
        "b={\"Climate\":{\"Condition\":{\"Humidity\":\"70 Percentage\", \"Temperature\":\"40 Degree\"}}}     #Nested Dictionary\n",
        "print(b[\"Climate\"][\"Condition\"][\"Humidity\"])"
      ],
      "metadata": {
        "colab": {
          "base_uri": "https://localhost:8080/"
        },
        "id": "_06XIl6rBgFA",
        "outputId": "409fa159-e4c2-499b-fac8-4544348757f3"
      },
      "execution_count": null,
      "outputs": [
        {
          "output_type": "stream",
          "name": "stdout",
          "text": [
            "Elon\n",
            "Musk\n",
            "['Tesla', 'SpaceX']\n",
            "52\n",
            "{'Name': 'Elon', 'Surname': 'Musk', 'Company': ['Tesla', 'SpaceX'], 'Age': 52}\n",
            "dict_keys(['Name', 'Surname', 'Company', 'Age'])\n",
            "dict_values(['Elon', 'Musk', ['Tesla', 'SpaceX'], 52])\n",
            "dict_items([('Name', 'Elon'), ('Surname', 'Musk'), ('Company', ['Tesla', 'SpaceX']), ('Age', 52)])\n",
            "70 Percentage\n"
          ]
        }
      ]
    },
    {
      "cell_type": "markdown",
      "source": [
        "#Tuple"
      ],
      "metadata": {
        "id": "zy5U0R7hYdCW"
      }
    },
    {
      "cell_type": "code",
      "source": [
        "a=(\"Champ\", 21, 99.5)\n",
        "print(len(a))\n",
        "print(a[0])\n",
        "print(a.index(\"Champ\"))"
      ],
      "metadata": {
        "colab": {
          "base_uri": "https://localhost:8080/"
        },
        "id": "nQ3cU1xdYhBV",
        "outputId": "5a6c6c10-7b0a-46c9-b65f-cf5eebc63724"
      },
      "execution_count": 2,
      "outputs": [
        {
          "output_type": "stream",
          "name": "stdout",
          "text": [
            "3\n",
            "Champ\n",
            "0\n"
          ]
        }
      ]
    },
    {
      "cell_type": "markdown",
      "source": [
        "#Sets\n"
      ],
      "metadata": {
        "id": "cY2HCa7OZXRm"
      }
    },
    {
      "cell_type": "code",
      "source": [
        "a = set()\n",
        "a.add(\"Champ\")\n",
        "a.add(12)\n",
        "a.add(99.5)\n",
        "print(a)\n",
        "b = {\"Prutha\", 99.5, 88, \"M\"}\n",
        "print(b)"
      ],
      "metadata": {
        "colab": {
          "base_uri": "https://localhost:8080/"
        },
        "id": "dyRDib7oZY1x",
        "outputId": "55528386-f81f-493d-e5c3-02dafd40bf5e"
      },
      "execution_count": 6,
      "outputs": [
        {
          "output_type": "stream",
          "name": "stdout",
          "text": [
            "{'Champ', 99.5, 12}\n",
            "{88, 99.5, 'Prutha', 'M'}\n"
          ]
        }
      ]
    },
    {
      "cell_type": "markdown",
      "source": [
        "#Boolean"
      ],
      "metadata": {
        "id": "p_z2VXNPZ5P-"
      }
    },
    {
      "cell_type": "code",
      "source": [
        "a = 5\n",
        "b = 10\n",
        "c = 15\n",
        "print(a>b)\n",
        "print(a<b)\n",
        "print(a==b)\n",
        "print(a!=b)\n",
        "print(a<=b)\n",
        "print(a>=b)\n",
        "print(a<b and c>a)\n",
        "print(a<b or c>a)\n"
      ],
      "metadata": {
        "colab": {
          "base_uri": "https://localhost:8080/"
        },
        "id": "cASYwobPZ60X",
        "outputId": "3dcb826a-7bcc-4a72-94e7-2535a261782b"
      },
      "execution_count": 7,
      "outputs": [
        {
          "output_type": "stream",
          "name": "stdout",
          "text": [
            "False\n",
            "True\n",
            "False\n",
            "True\n",
            "True\n",
            "False\n",
            "True\n",
            "True\n"
          ]
        }
      ]
    }
  ]
}