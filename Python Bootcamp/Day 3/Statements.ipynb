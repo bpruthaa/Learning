{
  "nbformat": 4,
  "nbformat_minor": 0,
  "metadata": {
    "colab": {
      "name": "Statements.ipynb",
      "provenance": []
    },
    "kernelspec": {
      "name": "python3",
      "display_name": "Python 3"
    },
    "language_info": {
      "name": "python"
    }
  },
  "cells": [
    {
      "cell_type": "markdown",
      "source": [
        "#If-Else Statement"
      ],
      "metadata": {
        "id": "-gmIEfeth4sw"
      }
    },
    {
      "cell_type": "code",
      "source": [
        "a = True\n",
        "if a:\n",
        "  print(\"Positive\")\n",
        "else:\n",
        "  print(\"Negative\")"
      ],
      "metadata": {
        "colab": {
          "base_uri": "https://localhost:8080/"
        },
        "id": "X4m-A9hgh9T_",
        "outputId": "67cceeb7-024c-404a-ef61-9ce62514db83"
      },
      "execution_count": 2,
      "outputs": [
        {
          "output_type": "stream",
          "name": "stdout",
          "text": [
            "Positive\n"
          ]
        }
      ]
    },
    {
      "cell_type": "code",
      "source": [
        "a = 5\n",
        "b = 10\n",
        "if a>b:\n",
        "  print(\"A is Maximu\")\n",
        "else:\n",
        "  print(\"B is Maximum\")"
      ],
      "metadata": {
        "colab": {
          "base_uri": "https://localhost:8080/"
        },
        "id": "op4-eMUFiWag",
        "outputId": "311570e6-df35-48a9-dbd1-257cc10f9f49"
      },
      "execution_count": 4,
      "outputs": [
        {
          "output_type": "stream",
          "name": "stdout",
          "text": [
            "B is Maximum\n"
          ]
        }
      ]
    },
    {
      "cell_type": "markdown",
      "source": [
        "#ElIf(Else If) Condition"
      ],
      "metadata": {
        "id": "U0kvUSbIipuX"
      }
    },
    {
      "cell_type": "code",
      "source": [
        "a = 5\n",
        "b = 10\n",
        "c = 15\n",
        "if a>b:\n",
        "  print(\"a is maximum\")\n",
        "elif c==b:\n",
        "  print(\"b is maximum\")\n",
        "  print(\"c is equals to b\")\n",
        "else:\n",
        "  print(\"c is maximum\")"
      ],
      "metadata": {
        "colab": {
          "base_uri": "https://localhost:8080/"
        },
        "id": "R14GkEVViv9_",
        "outputId": "03b1334d-5f04-41c2-8ac7-a6987b0936b4"
      },
      "execution_count": 8,
      "outputs": [
        {
          "output_type": "stream",
          "name": "stdout",
          "text": [
            "c is maximum\n"
          ]
        }
      ]
    },
    {
      "cell_type": "markdown",
      "source": [
        "#For Loop"
      ],
      "metadata": {
        "id": "SfTIS6SXjyH5"
      }
    },
    {
      "cell_type": "code",
      "source": [
        "a = [1,2,3,4,5,6,7,8,9,10]\n",
        "for i in a:\n",
        "  print(i)\n",
        "b = [x for x in \"Prutha\"]\n",
        "print(b)\n",
        "for i in a:\n",
        "  if i%2 == 0:\n",
        "    print(i,\"Even Number\")\n",
        "  else:\n",
        "    print(i,\"Odd Number\")\n",
        "for x in \"Hello Prutha\":\n",
        "  print(x)"
      ],
      "metadata": {
        "colab": {
          "base_uri": "https://localhost:8080/"
        },
        "id": "IyWR343Ijzvg",
        "outputId": "0a46879a-7558-460b-bddb-54849b532432"
      },
      "execution_count": 23,
      "outputs": [
        {
          "output_type": "stream",
          "name": "stdout",
          "text": [
            "1\n",
            "2\n",
            "3\n",
            "4\n",
            "5\n",
            "6\n",
            "7\n",
            "8\n",
            "9\n",
            "10\n",
            "['P', 'r', 'u', 't', 'h', 'a']\n",
            "1 Odd Number\n",
            "2 Even Number\n",
            "3 Odd Number\n",
            "4 Even Number\n",
            "5 Odd Number\n",
            "6 Even Number\n",
            "7 Odd Number\n",
            "8 Even Number\n",
            "9 Odd Number\n",
            "10 Even Number\n",
            "H\n",
            "e\n",
            "l\n",
            "l\n",
            "o\n",
            " \n",
            "P\n",
            "r\n",
            "u\n",
            "t\n",
            "h\n",
            "a\n"
          ]
        }
      ]
    },
    {
      "cell_type": "markdown",
      "source": [
        "#For Loop With Dictionary"
      ],
      "metadata": {
        "id": "H0k-mOz6nDg9"
      }
    },
    {
      "cell_type": "code",
      "source": [
        "a = {\"Name\":\"Elon Musk\", \"Age\":\"52\", \"Company\":\"Tesla\"}\n",
        "for k,v in a.items():\n",
        "  print(k)\n",
        "  print(v)"
      ],
      "metadata": {
        "colab": {
          "base_uri": "https://localhost:8080/"
        },
        "id": "sXGZE7j7nHRX",
        "outputId": "487244e2-9551-428b-d2b0-44f712d27ad0"
      },
      "execution_count": 26,
      "outputs": [
        {
          "output_type": "stream",
          "name": "stdout",
          "text": [
            "Name\n",
            "Elon Musk\n",
            "Age\n",
            "52\n",
            "Company\n",
            "Tesla\n"
          ]
        }
      ]
    },
    {
      "cell_type": "markdown",
      "source": [
        "#While"
      ],
      "metadata": {
        "id": "EpAcyF1WyWW8"
      }
    },
    {
      "cell_type": "code",
      "source": [
        "a = 0\n",
        "while a <= 10:\n",
        "  print(a)\n",
        "  a+=1 \n",
        "  if a==5:\n",
        "    print(\"a is equals to 5\")\n",
        "    break\n",
        "  else:\n",
        "    print(\"Continueeee\")\n",
        "    continue"
      ],
      "metadata": {
        "colab": {
          "base_uri": "https://localhost:8080/"
        },
        "id": "5JwnPAKQyXxQ",
        "outputId": "8db95be3-b56d-4f45-c461-c892657d52a8"
      },
      "execution_count": 33,
      "outputs": [
        {
          "output_type": "stream",
          "name": "stdout",
          "text": [
            "0\n",
            "Continueeee\n",
            "1\n",
            "Continueeee\n",
            "2\n",
            "Continueeee\n",
            "3\n",
            "Continueeee\n",
            "4\n",
            "a is equals to 5\n"
          ]
        }
      ]
    }
  ]
}