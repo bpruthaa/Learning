{
  "nbformat": 4,
  "nbformat_minor": 0,
  "metadata": {
    "colab": {
      "provenance": [],
      "collapsed_sections": []
    },
    "kernelspec": {
      "name": "python3",
      "display_name": "Python 3"
    },
    "language_info": {
      "name": "python"
    }
  },
  "cells": [
    {
      "cell_type": "markdown",
      "source": [
        "#Object Oriented Programming\n"
      ],
      "metadata": {
        "id": "7_L4aBuZUpPm"
      }
    },
    {
      "cell_type": "markdown",
      "source": [
        "#Class\n"
      ],
      "metadata": {
        "id": "jvop_npoUxsh"
      }
    },
    {
      "cell_type": "markdown",
      "source": [
        "#Usr Defined Object Created using Class"
      ],
      "metadata": {
        "id": "cGbsWUVLU5Uu"
      }
    },
    {
      "cell_type": "code",
      "source": [
        "class Student:\n",
        "  print(\"Hello All\")\n",
        "x = Student()   #object instantiation\n",
        "print(type(x))"
      ],
      "metadata": {
        "colab": {
          "base_uri": "https://localhost:8080/"
        },
        "id": "hTq8XhScX-iv",
        "outputId": "30427e73-8632-4ca3-e437-cda4584685b5"
      },
      "execution_count": 1,
      "outputs": [
        {
          "output_type": "stream",
          "name": "stdout",
          "text": [
            "Hello All\n",
            "<class '__main__.Student'>\n"
          ]
        }
      ]
    },
    {
      "cell_type": "markdown",
      "source": [
        "#Calling Class Function Using Class Name"
      ],
      "metadata": {
        "id": "MjO3YfTlY_cy"
      }
    },
    {
      "cell_type": "code",
      "source": [
        "class Student:\n",
        "  def func():\n",
        "    print(\"Welcome to Google Clolab\")\n",
        "Student.func()\n"
      ],
      "metadata": {
        "colab": {
          "base_uri": "https://localhost:8080/"
        },
        "id": "UsgFBOtuZC8-",
        "outputId": "bf7815e5-9837-41cf-8758-c2355324f8e0"
      },
      "execution_count": 2,
      "outputs": [
        {
          "output_type": "stream",
          "name": "stdout",
          "text": [
            "Welcome to Google Clolab\n"
          ]
        }
      ]
    },
    {
      "cell_type": "markdown",
      "source": [
        "#\"Self\" Keyword\n",
        "A Reference used to access variables of current class."
      ],
      "metadata": {
        "id": "r89aR5EwaTVy"
      }
    },
    {
      "cell_type": "code",
      "source": [
        "class Student:\n",
        "  def func(self):\n",
        "    print(\"Self Keyword Demo\")\n",
        "x = Student()\n",
        "x.func()"
      ],
      "metadata": {
        "colab": {
          "base_uri": "https://localhost:8080/"
        },
        "id": "CLNntqRvapPA",
        "outputId": "5547c291-0870-4cb1-f77b-fd9cec21cf6d"
      },
      "execution_count": 4,
      "outputs": [
        {
          "output_type": "stream",
          "name": "stdout",
          "text": [
            "Self Keyword Demo\n"
          ]
        }
      ]
    },
    {
      "cell_type": "code",
      "source": [
        "class Student:\n",
        "  year = '2022'\n",
        "  def func():\n",
        "    print(\"Accessing variable using Instance of the Class\")\n",
        "x = Student()\n",
        "x.year"
      ],
      "metadata": {
        "colab": {
          "base_uri": "https://localhost:8080/",
          "height": 36
        },
        "id": "pEePimx1mV1e",
        "outputId": "70eb74d0-b912-4959-88e5-6e4f0ffc4f2a"
      },
      "execution_count": 2,
      "outputs": [
        {
          "output_type": "execute_result",
          "data": {
            "text/plain": [
              "'2022'"
            ],
            "application/vnd.google.colaboratory.intrinsic+json": {
              "type": "string"
            }
          },
          "metadata": {},
          "execution_count": 2
        }
      ]
    },
    {
      "cell_type": "code",
      "source": [
        "class Student:\n",
        "  year = '2022'\n",
        "  def func(self):\n",
        "    print(\"Accessing variable using Instance of the Class\",self.year)\n",
        "x = Student()\n",
        "x.year"
      ],
      "metadata": {
        "colab": {
          "base_uri": "https://localhost:8080/",
          "height": 36
        },
        "id": "E29ySlXcqHEc",
        "outputId": "a7dc6631-8217-4bf3-ea29-c94e74d72988"
      },
      "execution_count": 4,
      "outputs": [
        {
          "output_type": "execute_result",
          "data": {
            "text/plain": [
              "'2022'"
            ],
            "application/vnd.google.colaboratory.intrinsic+json": {
              "type": "string"
            }
          },
          "metadata": {},
          "execution_count": 4
        }
      ]
    },
    {
      "cell_type": "markdown",
      "source": [
        "#Attribute(Constructor) of An Object using (__init__) method"
      ],
      "metadata": {
        "id": "174FlVcZuT7q"
      }
    },
    {
      "cell_type": "code",
      "source": [
        "class Student():\n",
        "  def __init__(self,name):  #method to initialize Attribute(Constructor)\n",
        "    self.name = name #self.name = attribute initialized\n",
        "elon = Student(name=\"Elon Musk\") #Creating Instance of Student Class\n",
        "champ = Student(name=\"Champion\") #Creating Instance of Student Class\n",
        "\n",
        "print(elon.name) #Accessing Class attribute through instance\n",
        "print(champ.name)\n"
      ],
      "metadata": {
        "colab": {
          "base_uri": "https://localhost:8080/"
        },
        "id": "Zpoa50hCvJuo",
        "outputId": "0cc605b9-1e86-4135-d037-9146a7e0eb1f"
      },
      "execution_count": 1,
      "outputs": [
        {
          "output_type": "stream",
          "name": "stdout",
          "text": [
            "Elon Musk\n",
            "Champion\n"
          ]
        }
      ]
    },
    {
      "cell_type": "code",
      "source": [
        "class Student():\n",
        "  def __init__(self,name,age):  #method to initialize Attribute(Constructor)\n",
        "    self.name = name #self.name = attribute initialized\n",
        "    self.age = age \n",
        "elon = Student(name=\"Elon Musk\", age=52) #Creating Instance of Student Class\n",
        "print(elon.name) #Accessing Class attribute through instance\n",
        "print(elon.age)"
      ],
      "metadata": {
        "colab": {
          "base_uri": "https://localhost:8080/"
        },
        "id": "ZcK1A7F1caxs",
        "outputId": "f2b7362a-229d-4d13-96c0-bb6325f4e178"
      },
      "execution_count": 7,
      "outputs": [
        {
          "output_type": "stream",
          "name": "stdout",
          "text": [
            "Elon Musk\n",
            "52\n"
          ]
        }
      ]
    },
    {
      "cell_type": "markdown",
      "source": [
        "#Write a Program to Find out the Difference between Marks Obtained by Students from Total marks --- Using Functions:"
      ],
      "metadata": {
        "id": "7GSir7CwdlgJ"
      }
    },
    {
      "cell_type": "code",
      "source": [
        "class Student:\n",
        "  Total = 500\n",
        "  def __init__(self,marks):\n",
        "    self.marks = marks\n",
        "    print(\"Initialized....\")\n",
        "  def findLoss(self):\n",
        "    return self.Total - self.marks\n",
        "  def findPercentage(self):\n",
        "    return self.marks/self.Total*100\n",
        "a = Student(marks=450)\n",
        "print(\"Total marks:\",a.Total)\n",
        "print(\"Marks Obtained:\",a.marks)\n",
        "print(\"Marks Lost:\", a.findLoss())\n",
        "print(\"Find Percentage:\", a.findPercentage())"
      ],
      "metadata": {
        "colab": {
          "base_uri": "https://localhost:8080/"
        },
        "id": "KoO1lEzHd0Z2",
        "outputId": "f8ca7b7d-1378-47d6-90bb-9fab54fbde58"
      },
      "execution_count": 11,
      "outputs": [
        {
          "output_type": "stream",
          "name": "stdout",
          "text": [
            "Initialized....\n",
            "Total marks: 500\n",
            "Marks Obtained: 450\n",
            "Marks Lost: 50\n",
            "Find Percentage: 90.0\n"
          ]
        }
      ]
    },
    {
      "cell_type": "markdown",
      "source": [
        "#Special Methods\n"
      ],
      "metadata": {
        "id": "u_5r-WIHiplB"
      }
    },
    {
      "cell_type": "code",
      "source": [
        "class Student:\n",
        "  total = 500\n",
        "  def __init__(self,name,marks,gender):\n",
        "    self.name = name\n",
        "    self.marks = marks\n",
        "    self.gender = gender\n",
        "    print(\"Initialized\")\n",
        "  def __len__(self):\n",
        "    return self.marks\n",
        "  def __str__(self):\n",
        "    return \"Name:%s | Marks:%s | Gender:%s\" %(self.name,self.marks,self.gender) \n",
        "  def __del__(self):\n",
        "    print(\"Student Database is Deleted\")\n",
        "a = Student('Champ',450,'male')\n",
        "print(a)\n",
        "print(\"Marks\",len(a))\n",
        "del a"
      ],
      "metadata": {
        "colab": {
          "base_uri": "https://localhost:8080/"
        },
        "id": "m4Xe3ADOjUtw",
        "outputId": "61ff224b-ba74-4e7f-fb07-057ad81ef580"
      },
      "execution_count": 16,
      "outputs": [
        {
          "output_type": "stream",
          "name": "stdout",
          "text": [
            "Initialized\n",
            "Name:Champ | Marks:450 | Gender:male\n",
            "Marks 450\n",
            "Student Database is Deleted\n"
          ]
        }
      ]
    },
    {
      "cell_type": "markdown",
      "source": [
        "#Inheritance - Helps to Reduce Complexity of Program"
      ],
      "metadata": {
        "id": "EZH6utp5ldQl"
      }
    },
    {
      "cell_type": "code",
      "source": [
        "class Elon:\n",
        "  def __init__(self):\n",
        "    print(\"Profile Created\")\n",
        "  def Name(self):\n",
        "    print(\"Elon Musk\")\n",
        "  def Age(self):\n",
        "    print(\"45\")\n",
        "class SpaceX(Elon):         #inherited Class. Passing Classname (ELON) as Arguement\n",
        "  def __init__(self):\n",
        "    Elon.__init__(self)\n",
        "    print(\"Company Profile Created\")\n",
        "  def Name(self):\n",
        "    print(\"Name has no Changes\")\n",
        "  def Age(self):\n",
        "    Elon.Age(self)\n",
        "    print(\"Age is Same\")\n",
        "  def Type(self):\n",
        "    print(\"Private Space Travel\")\n",
        "a = SpaceX()\n",
        "a.Name()                  #Derived Class changes the behaviour of the Method\n",
        "a.Age()"
      ],
      "metadata": {
        "colab": {
          "base_uri": "https://localhost:8080/"
        },
        "id": "Hgv3_NsAljUs",
        "outputId": "068031c5-e024-42d5-e178-08082db12b5f"
      },
      "execution_count": 22,
      "outputs": [
        {
          "output_type": "stream",
          "name": "stdout",
          "text": [
            "Profile Created\n",
            "Company Profile Created\n",
            "Name has no Changes\n",
            "45\n",
            "Age is Same\n"
          ]
        }
      ]
    },
    {
      "cell_type": "markdown",
      "source": [
        "#Polymorphism - Different Class Sharing Same Method Names. called from the Same Place but Still shows differently"
      ],
      "metadata": {
        "id": "d5MAky8FPq4t"
      }
    },
    {
      "cell_type": "code",
      "source": [
        "class Elon:\n",
        "  def __init__(self, name):\n",
        "    self.name=name\n",
        "  def type(self):\n",
        "    return \"Enterprenur\"\n",
        "class Sundar:\n",
        "  def __init__(self,name):\n",
        "    self.name=name\n",
        "  def type(self):\n",
        "    return \"CEO\"\n",
        "person1 = Elon(\"Elon Musk\")\n",
        "person2 = Sundar(\"Sundar Pichai\")\n",
        "\n",
        "print(person1.type())\n",
        "print(person2.type())"
      ],
      "metadata": {
        "colab": {
          "base_uri": "https://localhost:8080/"
        },
        "id": "LCZEWBc8SpOX",
        "outputId": "de53f637-4ab6-4600-c338-75baf652b6ac"
      },
      "execution_count": 4,
      "outputs": [
        {
          "output_type": "stream",
          "name": "stdout",
          "text": [
            "Enterprenur\n",
            "CEO\n"
          ]
        }
      ]
    }
  ]
}