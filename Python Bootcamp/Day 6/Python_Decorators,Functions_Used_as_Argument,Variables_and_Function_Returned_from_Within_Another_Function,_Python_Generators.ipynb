{
  "nbformat": 4,
  "nbformat_minor": 0,
  "metadata": {
    "colab": {
      "provenance": []
    },
    "kernelspec": {
      "name": "python3",
      "display_name": "Python 3"
    },
    "language_info": {
      "name": "python"
    }
  },
  "cells": [
    {
      "cell_type": "markdown",
      "source": [
        "#Python Decorators\n",
        "Functions which modify the functionality of other functions without modifying its structure\n",
        "Can Be Initialized in following 2 ways:"
      ],
      "metadata": {
        "id": "rxKNVQqF9SAd"
      }
    },
    {
      "cell_type": "code",
      "source": [
        "'''@decname\n",
        "def func():\n",
        "  print(\"Statement\")\n",
        "\n",
        "\n",
        "  OR\n",
        "\n",
        "def func():\n",
        "  print(\"Statement\")\n",
        "\n",
        "func=decName(func)'''"
      ],
      "metadata": {
        "id": "D4mBxXfK-dMC"
      },
      "execution_count": null,
      "outputs": []
    },
    {
      "cell_type": "markdown",
      "source": [
        "# Function As Object"
      ],
      "metadata": {
        "id": "UH8yFv-N-94a"
      }
    },
    {
      "cell_type": "code",
      "source": [
        "def welcome(a):\n",
        "  print(\"Hello {0}, Welcome to Python Bootcamp!!\".format(a))\n",
        "\n",
        "welcome(\"Champ\")"
      ],
      "metadata": {
        "colab": {
          "base_uri": "https://localhost:8080/"
        },
        "id": "cCFkQEg7_FPq",
        "outputId": "048df896-901b-4de0-e569-62afb81da3da"
      },
      "execution_count": 3,
      "outputs": [
        {
          "output_type": "stream",
          "name": "stdout",
          "text": [
            "Hello Champ, Welcome to Python Bootcamp!!\n"
          ]
        }
      ]
    },
    {
      "cell_type": "code",
      "source": [
        "a =  welcome   #No Parenthesis. If it is Parenthesis, it will call Function. Function as Object\n",
        "a(\"champ\")"
      ],
      "metadata": {
        "colab": {
          "base_uri": "https://localhost:8080/"
        },
        "id": "RJlpbYpj_rw8",
        "outputId": "40273623-423d-41bd-ff18-9d5bd4a1567f"
      },
      "execution_count": 4,
      "outputs": [
        {
          "output_type": "stream",
          "name": "stdout",
          "text": [
            "Hello champ, Welcome to Python Bootcamp!!\n"
          ]
        }
      ]
    },
    {
      "cell_type": "markdown",
      "source": [
        "#Function As Variable"
      ],
      "metadata": {
        "id": "SgrBrobrAiJZ"
      }
    },
    {
      "cell_type": "code",
      "source": [
        "def lowerCase(text):\n",
        "  return text.lower()\n",
        "def upperCase(text):\n",
        "  return text.upper()\n",
        "def a(welcome):\n",
        "  message=welcome(\"Hello all welcome to Python Bootcamp\") #Function as Variable\n",
        "  print(message)\n",
        "\n",
        "a(lowerCase)\n",
        "a(upperCase)"
      ],
      "metadata": {
        "colab": {
          "base_uri": "https://localhost:8080/"
        },
        "id": "wQGk2M8fAlQl",
        "outputId": "2f3b6daa-b6b9-44db-b0f7-5c9679eb149b"
      },
      "execution_count": 5,
      "outputs": [
        {
          "output_type": "stream",
          "name": "stdout",
          "text": [
            "hello all welcome to python bootcamp\n",
            "HELLO ALL WELCOME TO PYTHON BOOTCAMP\n"
          ]
        }
      ]
    },
    {
      "cell_type": "markdown",
      "source": [
        "#Returning Function From Another Function"
      ],
      "metadata": {
        "id": "pZqDF3miJRWh"
      }
    },
    {
      "cell_type": "code",
      "source": [
        "def addMain(a):\n",
        "  def subMain(b):\n",
        "    print(a,b)\n",
        "    return a+b\n",
        "  return subMain\n",
        "\n",
        "addition = addMain(100)\n",
        "print(addition(75))\n"
      ],
      "metadata": {
        "colab": {
          "base_uri": "https://localhost:8080/"
        },
        "id": "YkxTb-DwJV2w",
        "outputId": "2c8e48e8-4e22-4370-bdd0-643a9cdb783a"
      },
      "execution_count": 7,
      "outputs": [
        {
          "output_type": "stream",
          "name": "stdout",
          "text": [
            "100 75\n",
            "175\n"
          ]
        }
      ]
    },
    {
      "cell_type": "markdown",
      "source": [
        "# DECORATORS in Action"
      ],
      "metadata": {
        "id": "ySor2roxJ8Nm"
      }
    },
    {
      "cell_type": "code",
      "source": [
        "def decoratorFunc (welcome):  #2 Decorator Function\n",
        "  def a():#3 Can Access outer Local functions like \"welcome\"\n",
        "    print(\"Start\")\n",
        "    welcome()#4 Calling Actual Function\n",
        "    print(\"End\")\n",
        "  return a\n",
        "def subFunc():\n",
        "  print(\"Sub Func\")\n",
        "\n",
        "subFunc = decoratorFunc(subFunc)#1 SubFUnction inside Decorator Function to control Behaviour\n",
        "\n",
        "subFunc()"
      ],
      "metadata": {
        "colab": {
          "base_uri": "https://localhost:8080/"
        },
        "id": "xklZS98UM4bD",
        "outputId": "474f7a4c-4fba-498b-f42c-dde82d0359cc"
      },
      "execution_count": 10,
      "outputs": [
        {
          "output_type": "stream",
          "name": "stdout",
          "text": [
            "Start\n",
            "Sub Func\n",
            "End\n"
          ]
        }
      ]
    },
    {
      "cell_type": "markdown",
      "source": [
        "#Python Generators\n",
        "Python generators are a simple way of creating iterators. All the work we mentioned above are automatically handled by generators in Python. Simply speaking, a generator is a function that returns an object (iterator) which we can iterate over (one value at a time)."
      ],
      "metadata": {
        "id": "NPzpU2H1ZcQ2"
      }
    },
    {
      "cell_type": "code",
      "source": [
        "def square(n):\n",
        "  for i in range (n):\n",
        "    yield i**2"
      ],
      "metadata": {
        "id": "57CQCo_7ZeO4"
      },
      "execution_count": 1,
      "outputs": []
    },
    {
      "cell_type": "code",
      "source": [
        "for n in square(10):\n",
        "  print(n)"
      ],
      "metadata": {
        "colab": {
          "base_uri": "https://localhost:8080/"
        },
        "id": "HQF3TYIj0Qcg",
        "outputId": "e4f13d4a-69a7-4a26-a937-a090a6ec2ad3"
      },
      "execution_count": 2,
      "outputs": [
        {
          "output_type": "stream",
          "name": "stdout",
          "text": [
            "0\n",
            "1\n",
            "4\n",
            "9\n",
            "16\n",
            "25\n",
            "36\n",
            "49\n",
            "64\n",
            "81\n"
          ]
        }
      ]
    },
    {
      "cell_type": "markdown",
      "source": [
        "#Built In Function - Next"
      ],
      "metadata": {
        "id": "RYLoxPkK0biL"
      }
    },
    {
      "cell_type": "code",
      "source": [
        "def square():\n",
        "  for i in range (n)\n",
        "  yield i**2"
      ],
      "metadata": {
        "id": "y7R0E6Ah0iN6"
      },
      "execution_count": null,
      "outputs": []
    },
    {
      "cell_type": "code",
      "source": [
        "a = square()"
      ],
      "metadata": {
        "id": "aEWCD5lK04xZ"
      },
      "execution_count": null,
      "outputs": []
    },
    {
      "cell_type": "code",
      "source": [
        "print(next(a))  #After Yielding all the values next() causes a StopIteration error"
      ],
      "metadata": {
        "colab": {
          "base_uri": "https://localhost:8080/",
          "height": 165
        },
        "id": "pJNeOrZT08Oj",
        "outputId": "9c1ed356-2118-415e-d4e4-e74059386fd1"
      },
      "execution_count": 3,
      "outputs": [
        {
          "output_type": "error",
          "ename": "NameError",
          "evalue": "ignored",
          "traceback": [
            "\u001b[0;31m---------------------------------------------------------------------------\u001b[0m",
            "\u001b[0;31mNameError\u001b[0m                                 Traceback (most recent call last)",
            "\u001b[0;32m<ipython-input-3-9ee6d28d4923>\u001b[0m in \u001b[0;36m<module>\u001b[0;34m\u001b[0m\n\u001b[0;32m----> 1\u001b[0;31m \u001b[0mprint\u001b[0m\u001b[0;34m(\u001b[0m\u001b[0mnext\u001b[0m\u001b[0;34m(\u001b[0m\u001b[0ma\u001b[0m\u001b[0;34m)\u001b[0m\u001b[0;34m)\u001b[0m  \u001b[0;31m#After Yielding all the values next() causes a StopIteration error\u001b[0m\u001b[0;34m\u001b[0m\u001b[0;34m\u001b[0m\u001b[0m\n\u001b[0m",
            "\u001b[0;31mNameError\u001b[0m: name 'a' is not defined"
          ]
        }
      ]
    }
  ]
}