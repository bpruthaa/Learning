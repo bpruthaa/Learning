{
  "nbformat": 4,
  "nbformat_minor": 0,
  "metadata": {
    "colab": {
      "provenance": []
    },
    "kernelspec": {
      "name": "python3",
      "display_name": "Python 3"
    },
    "language_info": {
      "name": "python"
    }
  },
  "cells": [
    {
      "cell_type": "markdown",
      "source": [
        "#Range Function"
      ],
      "metadata": {
        "id": "wr4JKDAr0LYz"
      }
    },
    {
      "cell_type": "code",
      "source": [
        "for a in range(5):          #Prints a specific range\n",
        "  print(a)\n",
        "for b in range(0,10,2):     #Prints a specific range by jumping specific locations in Increment\n",
        "  print(b)\n",
        "for c in range(10, 1, -2):  #Prints a specific range by jumping specific locations in Decremet\n",
        "  print(c)"
      ],
      "metadata": {
        "colab": {
          "base_uri": "https://localhost:8080/"
        },
        "id": "zIFCJ2o50N_4",
        "outputId": "d7f754d8-c8eb-411d-a651-68db01367df4"
      },
      "execution_count": null,
      "outputs": [
        {
          "output_type": "stream",
          "name": "stdout",
          "text": [
            "0\n",
            "1\n",
            "2\n",
            "3\n",
            "4\n",
            "0\n",
            "2\n",
            "4\n",
            "6\n",
            "8\n",
            "10\n",
            "8\n",
            "6\n",
            "4\n",
            "2\n"
          ]
        }
      ]
    },
    {
      "cell_type": "markdown",
      "source": [
        "#Ennumerate Function\n",
        "######Tracks Number of Iteration without incrementing the iteration"
      ],
      "metadata": {
        "id": "ZWMZ0alGD38s"
      }
    },
    {
      "cell_type": "code",
      "source": [
        "a = 0\n",
        "for i,a in enumerate(\"Hello Prutha\"):\n",
        "  print(i,a)"
      ],
      "metadata": {
        "colab": {
          "base_uri": "https://localhost:8080/"
        },
        "id": "dzeQH37QEHe8",
        "outputId": "23d4dc51-9f17-4f96-def3-4713d38d0e34"
      },
      "execution_count": null,
      "outputs": [
        {
          "output_type": "stream",
          "name": "stdout",
          "text": [
            "0 H\n",
            "1 e\n",
            "2 l\n",
            "3 l\n",
            "4 o\n",
            "5  \n",
            "6 P\n",
            "7 r\n",
            "8 u\n",
            "9 t\n",
            "10 h\n",
            "11 a\n"
          ]
        }
      ]
    },
    {
      "cell_type": "markdown",
      "source": [
        "#Zip\n",
        "######Creating a tuple by zipping 2 lists"
      ],
      "metadata": {
        "id": "temBq7_LEyg0"
      }
    },
    {
      "cell_type": "code",
      "source": [
        "a = [\"Name\", \"Age\", \"Hobby\"]\n",
        "b = [\"Prutha\", \"22\", \"Coding\"]\n",
        "list(zip(a,b))"
      ],
      "metadata": {
        "colab": {
          "base_uri": "https://localhost:8080/"
        },
        "id": "wihIXpNpE9Ga",
        "outputId": "9354df53-5ce2-4865-8a6d-26b999f17d38"
      },
      "execution_count": null,
      "outputs": [
        {
          "output_type": "execute_result",
          "data": {
            "text/plain": [
              "[('Name', 'Prutha'), ('Age', '22'), ('Hobby', 'Coding')]"
            ]
          },
          "metadata": {},
          "execution_count": 11
        }
      ]
    }
  ]
}