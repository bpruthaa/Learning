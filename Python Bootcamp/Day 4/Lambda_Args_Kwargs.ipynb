{
  "nbformat": 4,
  "nbformat_minor": 0,
  "metadata": {
    "colab": {
      "provenance": [],
      "collapsed_sections": []
    },
    "kernelspec": {
      "name": "python3",
      "display_name": "Python 3"
    },
    "language_info": {
      "name": "python"
    }
  },
  "cells": [
    {
      "cell_type": "markdown",
      "source": [
        "#Lambda Function\n",
        "\n",
        "Creating Anoynomous Function without using DEF keyword"
      ],
      "metadata": {
        "id": "RhLehXUWOZgS"
      }
    },
    {
      "cell_type": "code",
      "source": [
        "cubefn = lambda num: num**3\n",
        "cubefn(6)"
      ],
      "metadata": {
        "colab": {
          "base_uri": "https://localhost:8080/"
        },
        "id": "SQ75d1hbOcvu",
        "outputId": "fc8d653c-1478-4736-e7f3-c6b7d0f90364"
      },
      "execution_count": 2,
      "outputs": [
        {
          "output_type": "execute_result",
          "data": {
            "text/plain": [
              "216"
            ]
          },
          "metadata": {},
          "execution_count": 2
        }
      ]
    },
    {
      "cell_type": "markdown",
      "source": [
        "#Args And Kwargs\n",
        "Args - Allows to put any number of Arguements in a function without predefining them.\n",
        "\n",
        "Kwargs - Key-Value Pair Arguements can be added wothout predefining them."
      ],
      "metadata": {
        "id": "5oY_8pqiPQmq"
      }
    },
    {
      "cell_type": "code",
      "source": [
        "def addR(*argg):\n",
        "  return sum(argg)\n",
        "addR(10,20,30,40,50,60,70,80,90,100)"
      ],
      "metadata": {
        "colab": {
          "base_uri": "https://localhost:8080/"
        },
        "id": "Vr1xcJzQPUhq",
        "outputId": "426e5402-8a0a-4e1f-90ad-186847cdd663"
      },
      "execution_count": 4,
      "outputs": [
        {
          "output_type": "execute_result",
          "data": {
            "text/plain": [
              "550"
            ]
          },
          "metadata": {},
          "execution_count": 4
        }
      ]
    },
    {
      "cell_type": "code",
      "source": [
        "from traitlets.traitlets import inspect\n",
        "def func(**kwargs):\n",
        "  if 'name' in kwargs:\n",
        "    print(\"My Name is {0}\".format(kwargs['name']))\n",
        "  if 'age'  in kwargs:\n",
        "    print(\"And Age is {0}\".format(kwargs['age']))\n",
        "  else:\n",
        "    print(\"No Keyword Found\")\n",
        "func(name=\"Prutha\",age=\"22\")"
      ],
      "metadata": {
        "colab": {
          "base_uri": "https://localhost:8080/"
        },
        "id": "PcOlJ5hzR1Xj",
        "outputId": "74cc98d0-df95-42a9-bdf9-d99f3df587bb"
      },
      "execution_count": 7,
      "outputs": [
        {
          "output_type": "stream",
          "name": "stdout",
          "text": [
            "My Name is Prutha\n",
            "And Age is 22\n"
          ]
        }
      ]
    }
  ]
}