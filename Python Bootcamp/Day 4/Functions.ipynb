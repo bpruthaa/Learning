{
  "nbformat": 4,
  "nbformat_minor": 0,
  "metadata": {
    "colab": {
      "name": "Functions.ipynb",
      "provenance": [],
      "collapsed_sections": []
    },
    "kernelspec": {
      "name": "python3",
      "display_name": "Python 3"
    },
    "language_info": {
      "name": "python"
    }
  },
  "cells": [
    {
      "cell_type": "markdown",
      "source": [
        "#Functions"
      ],
      "metadata": {
        "id": "oWWW-tXmefoN"
      }
    },
    {
      "cell_type": "markdown",
      "source": [
        "3 Parts of function\n",
        "\n",
        "1) Defination\n",
        "\n",
        "2) Declaration\n",
        "\n",
        "3) Call"
      ],
      "metadata": {
        "id": "UhM5hT3eeuQU"
      }
    },
    {
      "cell_type": "markdown",
      "source": [
        "# Initialization and Call of a Basic Function:\n"
      ],
      "metadata": {
        "id": "V3ujvZ9vfMJk"
      }
    },
    {
      "cell_type": "code",
      "source": [
        "def welcome():\n",
        "  print(\"Call Me! Then I will execute your command!\")"
      ],
      "metadata": {
        "id": "lftWHBdufVs0"
      },
      "execution_count": 3,
      "outputs": []
    },
    {
      "cell_type": "code",
      "source": [
        "welcome()"
      ],
      "metadata": {
        "colab": {
          "base_uri": "https://localhost:8080/"
        },
        "id": "SQjpjtMJfjkF",
        "outputId": "d0434ac6-dd3f-41a7-ca8f-1ba4ac7a9cd3"
      },
      "execution_count": 4,
      "outputs": [
        {
          "output_type": "stream",
          "name": "stdout",
          "text": [
            "Call Me! Then I will execute your command!\n"
          ]
        }
      ]
    },
    {
      "cell_type": "markdown",
      "source": [
        "#Parameterized Fuction: "
      ],
      "metadata": {
        "id": "k77egWolf4oM"
      }
    },
    {
      "cell_type": "code",
      "source": [
        "def welcome(a):\n",
        "  print(\"Call me!!! Then I'll execute your command!\")\n",
        "  print(format(a))"
      ],
      "metadata": {
        "id": "nwGORg42f-41"
      },
      "execution_count": 9,
      "outputs": []
    },
    {
      "cell_type": "code",
      "source": [
        "welcome(\"Ohk! You Called!! Command Executed!!\")"
      ],
      "metadata": {
        "colab": {
          "base_uri": "https://localhost:8080/"
        },
        "id": "meS9-OH5gcrT",
        "outputId": "b6aa2f3e-35c2-45e2-86f1-d5e1e149be69"
      },
      "execution_count": 10,
      "outputs": [
        {
          "output_type": "stream",
          "name": "stdout",
          "text": [
            "Call me!!! Then I'll execute your command!\n",
            "Ohk! You Called!! Command Executed!!\n"
          ]
        }
      ]
    },
    {
      "cell_type": "markdown",
      "source": [
        "# Return Values"
      ],
      "metadata": {
        "id": "J3pOCVT_g1Cj"
      }
    },
    {
      "cell_type": "code",
      "source": [
        "def add(a,b):\n",
        "  add = a + b\n",
        "  print(add)"
      ],
      "metadata": {
        "id": "K7uTGUgYg3QL"
      },
      "execution_count": 11,
      "outputs": []
    },
    {
      "cell_type": "code",
      "source": [
        "add(80,44)"
      ],
      "metadata": {
        "colab": {
          "base_uri": "https://localhost:8080/"
        },
        "id": "GHSW9lQaiOBC",
        "outputId": "7d283bd2-2671-465f-bf85-907d146c624c"
      },
      "execution_count": 16,
      "outputs": [
        {
          "output_type": "stream",
          "name": "stdout",
          "text": [
            "124\n"
          ]
        }
      ]
    },
    {
      "cell_type": "code",
      "source": [
        "def addR(a,b):\n",
        "  add = a + b\n",
        "  return add"
      ],
      "metadata": {
        "id": "vpj7gmFwiYsd"
      },
      "execution_count": 14,
      "outputs": []
    },
    {
      "cell_type": "code",
      "source": [
        "addR(45,5)"
      ],
      "metadata": {
        "colab": {
          "base_uri": "https://localhost:8080/"
        },
        "id": "xn7aqu3QiivT",
        "outputId": "f6c48214-a8b6-4dd3-f597-f80b03b31add"
      },
      "execution_count": 15,
      "outputs": [
        {
          "output_type": "execute_result",
          "data": {
            "text/plain": [
              "50"
            ]
          },
          "metadata": {},
          "execution_count": 15
        }
      ]
    }
  ]
}