{
  "nbformat": 4,
  "nbformat_minor": 0,
  "metadata": {
    "colab": {
      "name": "Map Function.ipynb",
      "provenance": [],
      "collapsed_sections": []
    },
    "kernelspec": {
      "name": "python3",
      "display_name": "Python 3"
    },
    "language_info": {
      "name": "python"
    }
  },
  "cells": [
    {
      "cell_type": "markdown",
      "source": [
        "# Map Function\n",
        "###### Mapping a Function to an Iterable Object"
      ],
      "metadata": {
        "id": "FsHvVUsDnQcb"
      }
    },
    {
      "cell_type": "code",
      "source": [
        "def cubeNum(num):\n",
        "  return num**3"
      ],
      "metadata": {
        "id": "67tJCkNZvfrv"
      },
      "execution_count": 8,
      "outputs": []
    },
    {
      "cell_type": "code",
      "source": [
        "a = [1,2,3,4,5]\n",
        "list(map(cubeNum,a))"
      ],
      "metadata": {
        "colab": {
          "base_uri": "https://localhost:8080/"
        },
        "id": "u2e1QMaavm4e",
        "outputId": "ec96157f-9a76-42f5-c86e-5f06d73f93fc"
      },
      "execution_count": 9,
      "outputs": [
        {
          "output_type": "execute_result",
          "data": {
            "text/plain": [
              "[1, 8, 27, 64, 125]"
            ]
          },
          "metadata": {},
          "execution_count": 9
        }
      ]
    },
    {
      "cell_type": "markdown",
      "source": [
        "#Filter Function\n",
        "Yields Items of Iterale when condition is True"
      ],
      "metadata": {
        "id": "m-ImsI2AxCWn"
      }
    },
    {
      "cell_type": "code",
      "source": [
        "def evenFn(num):\n",
        "  return num % 2 == 0"
      ],
      "metadata": {
        "id": "RwPNRZwuxKWn"
      },
      "execution_count": 10,
      "outputs": []
    },
    {
      "cell_type": "code",
      "source": [
        "a = [0,1,2,3,4,5,6,7,8,9,10]\n",
        "print(list(filter(evenFn,a)))"
      ],
      "metadata": {
        "colab": {
          "base_uri": "https://localhost:8080/"
        },
        "id": "GlI4T6wfxRCP",
        "outputId": "c108d7f0-02a4-492e-c724-124fe39a8bb5"
      },
      "execution_count": 12,
      "outputs": [
        {
          "output_type": "stream",
          "name": "stdout",
          "text": [
            "[0, 2, 4, 6, 8, 10]\n"
          ]
        }
      ]
    },
    {
      "cell_type": "markdown",
      "source": [
        "# Map vs Filter"
      ],
      "metadata": {
        "id": "rrD_xeunxltQ"
      }
    },
    {
      "cell_type": "code",
      "source": [
        "print(list(map(evenFn,a)))\n",
        "print(list(filter(evenFn,a)))"
      ],
      "metadata": {
        "colab": {
          "base_uri": "https://localhost:8080/"
        },
        "id": "K0i0l6kXxo1f",
        "outputId": "2b66674a-0b86-4cd7-cce7-160ad3225ee7"
      },
      "execution_count": 13,
      "outputs": [
        {
          "output_type": "stream",
          "name": "stdout",
          "text": [
            "[True, False, True, False, True, False, True, False, True, False, True]\n",
            "[0, 2, 4, 6, 8, 10]\n"
          ]
        }
      ]
    },
    {
      "cell_type": "markdown",
      "source": [
        "# Lambda Function\n",
        "Creating Anoynomous Function, without 'def' function"
      ],
      "metadata": {
        "id": "KNlFF528yKqq"
      }
    },
    {
      "cell_type": "code",
      "source": [
        "cubefn = lambda num: num**3\n",
        "cubefn(6)"
      ],
      "metadata": {
        "colab": {
          "base_uri": "https://localhost:8080/"
        },
        "id": "gu2TDRbAyW9O",
        "outputId": "8e8f763f-2012-4df2-9f2d-959075a765ab"
      },
      "execution_count": 18,
      "outputs": [
        {
          "output_type": "execute_result",
          "data": {
            "text/plain": [
              "216"
            ]
          },
          "metadata": {},
          "execution_count": 18
        }
      ]
    },
    {
      "cell_type": "markdown",
      "source": [
        "**cubefn** - function name\n",
        "\n",
        "**num** - arguement name\n",
        "\n",
        "**num*3** - command to be excecuted when function is called( function body )\n",
        "\n",
        "**cubefn(6)** - function call\n"
      ],
      "metadata": {
        "id": "GFt8_SdVzAH_"
      }
    },
    {
      "cell_type": "markdown",
      "source": [
        "# Args and *kwargs"
      ],
      "metadata": {
        "id": "cYlQ-F-Uz4Z_"
      }
    },
    {
      "cell_type": "code",
      "source": [
        "#Normal Func. with arguements\n",
        "def addR(a,b,c,d):\n",
        "  num = a + b + c + d\n",
        "  return num\n",
        "addR(10,20,30,40)"
      ],
      "metadata": {
        "colab": {
          "base_uri": "https://localhost:8080/"
        },
        "id": "qbz7n9Rr0B3h",
        "outputId": "70f3387e-22db-42c8-e678-286593787f33"
      },
      "execution_count": 23,
      "outputs": [
        {
          "output_type": "execute_result",
          "data": {
            "text/plain": [
              "100"
            ]
          },
          "metadata": {},
          "execution_count": 23
        }
      ]
    },
    {
      "cell_type": "code",
      "source": [
        "#Purpose of Args\n",
        "def add(*args):        #any number of arguements can be passed\n",
        "  return(sum(args))\n",
        "add(10,20,30,40,50,60,70,80,90)"
      ],
      "metadata": {
        "colab": {
          "base_uri": "https://localhost:8080/"
        },
        "id": "i3kTfeTL0lqf",
        "outputId": "06743ac1-046c-4e99-fe73-16c052720c9f"
      },
      "execution_count": 25,
      "outputs": [
        {
          "output_type": "execute_result",
          "data": {
            "text/plain": [
              "450"
            ]
          },
          "metadata": {},
          "execution_count": 25
        }
      ]
    },
    {
      "cell_type": "code",
      "source": [
        "#Purpose of **kwargs\n",
        "#generates a key-value pair\n",
        "def func(**kwargs):\n",
        "  if 'name' in kwargs:\n",
        "    print(\"Name is {0}\".format(kwargs['name']))\n",
        "  if 'age' in kwargs:\n",
        "    print(\"Age is {0}\".format(kwargs['age']))\n",
        "  else:\n",
        "    print(\"No Key Found!\")\n",
        "func(name=\"Champ\",age=24)"
      ],
      "metadata": {
        "colab": {
          "base_uri": "https://localhost:8080/"
        },
        "id": "TOBKes5Q1EkZ",
        "outputId": "b0f136be-37e4-47df-fdba-9bc7d972d522"
      },
      "execution_count": 26,
      "outputs": [
        {
          "output_type": "stream",
          "name": "stdout",
          "text": [
            "Name is Champ\n",
            "Age is 24\n"
          ]
        }
      ]
    }
  ]
}