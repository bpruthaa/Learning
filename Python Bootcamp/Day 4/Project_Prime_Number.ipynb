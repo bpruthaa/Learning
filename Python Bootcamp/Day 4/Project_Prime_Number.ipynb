{
  "nbformat": 4,
  "nbformat_minor": 0,
  "metadata": {
    "colab": {
      "name": "Project-Prime-Number.ipynb",
      "provenance": [],
      "collapsed_sections": []
    },
    "kernelspec": {
      "name": "python3",
      "display_name": "Python 3"
    },
    "language_info": {
      "name": "python"
    }
  },
  "cells": [
    {
      "cell_type": "code",
      "execution_count": 10,
      "metadata": {
        "id": "glY8WAv3jGDn"
      },
      "outputs": [],
      "source": [
        "def check(numbers):\n",
        "  primenumber = []\n",
        "  for number in numbers:\n",
        "    if number>1:\n",
        "      for i in range(2, int(number/2)+1):\n",
        "        if(number % i) == 0:\n",
        "          print(number, \"is not a prime number\")\n",
        "          break\n",
        "        else:\n",
        "          print(number, \"is a prime number\")\n",
        "          primenumber.append(number)\n",
        "      else:\n",
        "        pass\n",
        "    return primenumber\n",
        "      \n"
      ]
    },
    {
      "cell_type": "code",
      "source": [
        "check([2,3,4,5,6,7,8,9])"
      ],
      "metadata": {
        "colab": {
          "base_uri": "https://localhost:8080/"
        },
        "id": "Jkyo9pLJmSO5",
        "outputId": "04f7b529-b487-4706-daad-cc223ed97de4"
      },
      "execution_count": 11,
      "outputs": [
        {
          "output_type": "execute_result",
          "data": {
            "text/plain": [
              "[]"
            ]
          },
          "metadata": {},
          "execution_count": 11
        }
      ]
    },
    {
      "cell_type": "markdown",
      "source": [
        "**check()** -  is a fucntion that checks whether the number is prime or not!\n",
        "\n",
        "**primenumber** is an empty array where we will append only prime numbers\n",
        "\n",
        "**first for loop** will traverse through numbers that we pass as arguement while calling the function\n",
        "\n",
        "the **first if condition** will check whether the number is greater than 1\n",
        "\n",
        "the **second for loop** is to traverse for the numbers that are between 2 to \n",
        "any number that is divisible by 2 and is  + 1\n",
        "\n",
        "the **second if statement** checks if the number divisible by any number in the array, is 0 then its not a prime number\n",
        "\n",
        "the **first else condition** means the above condition is wrong which means the number is prime and **appends it to the primenumber** array.\n",
        "\n",
        "the **second else condition** fulfills if the number is not greater than 1.\n",
        "\n",
        "the **return statement** returns the prime number array"
      ],
      "metadata": {
        "id": "V5iGsdyQmr5K"
      }
    }
  ]
}